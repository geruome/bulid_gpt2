{
 "cells": [
  {
   "cell_type": "code",
   "execution_count": null,
   "metadata": {},
   "outputs": [],
   "source": [
    "import torch\n",
    "import torch.nn as nn\n",
    "from torch.nn import functional as F\n",
    "import math\n",
    "from dataclasses import dataclass\n",
    "from transformers import GPT2LMHeadModel, set_seed\n",
    "import tiktoken\n",
    "\n",
    "device = torch.device('cuda' if torch.cuda.is_available() else 'cpu')\n",
    "model = GPT2LMHeadModel.from_pretrained('gpt2')\n",
    "model.to(device)\n",
    "model.eval()\n",
    "\n",
    "B = 5\n",
    "max_length = 30\n",
    "\n",
    "tokenizer = tiktoken.get_encoding('gpt2')\n",
    "input_sentence = \"Hello, I'm a language model,\"\n",
    "x = tokenizer.encode(input_sentence)\n",
    "x = torch.tensor(x, dtype=torch.long, device=device)\n",
    "x = x.unsqueeze(0).repeat(B, 1) # B, T\n",
    "\n",
    "set_seed(42)\n",
    "while x.shape[1] < max_length:\n",
    "    with torch.no_grad():\n",
    "        logits = model(x) # B, T, vocab_size\n",
    "        logits = logits[:, -1, :]  # B, vocab_size\n",
    "        probs = F.softmax(logits, dim=-1)  # logits != probs , softmax is needed\n",
    "        # 50 is default in huggingface pipeline.  Clamp down rare probs.\n",
    "        topk_probs, topk_ids = torch.topk(probs, 50, dim=-1) # (B, 50). \n",
    "        ix = torch.multinomial(topk_probs, 1) # sampling\n",
    "        nx = torch.gather(topk_ids, -1, ix) # get data a/to dim and idx\n",
    "        x = torch.cat((x, nx), dim=1) # B, T+1\n",
    "\n",
    "lst = x.tolist()\n",
    "print(input_sentence)\n",
    "for idx in lst:\n",
    "    print(\">\", tokenizer.decode(idx))"
   ]
  }
 ],
 "metadata": {
  "kernelspec": {
   "display_name": "pytorch",
   "language": "python",
   "name": "python3"
  },
  "language_info": {
   "name": "python",
   "version": "3.9.18"
  }
 },
 "nbformat": 4,
 "nbformat_minor": 2
}
